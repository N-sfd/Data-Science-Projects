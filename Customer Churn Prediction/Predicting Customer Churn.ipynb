{
 "cells": [
  {
   "cell_type": "markdown",
   "metadata": {
    "id": "A2hl3Pj4mBke"
   },
   "source": [
    "Predicting Customer Churn in an E-commerce **Platform**"
   ]
  },
  {
   "cell_type": "markdown",
   "metadata": {
    "id": "DnvP25IYmYek"
   },
   "source": [
    "Customer churn is when customers stop using a service or platform. In an e-commerce platform, predicting churn helps in targeting at-risk customers with personalized offers, improving customer retention, and increasing revenue.\n",
    "Objective : Build a machine learning model to predict whether a customer will churn (stop making purchases). Identify key factors influencing churn.\n",
    "Approach : This is a classification problem (binary classification: churn vs. not churn).\n",
    "The target variable is Churn (1 = churned, 0 = not churned).\n"
   ]
  },
  {
   "cell_type": "markdown",
   "metadata": {
    "id": "hRzGYKt_OJwU"
   },
   "source": [
    "# New section"
   ]
  },
  {
   "cell_type": "code",
   "execution_count": 3,
   "metadata": {
    "executionInfo": {
     "elapsed": 5,
     "status": "ok",
     "timestamp": 1740861858111,
     "user": {
      "displayName": "nz asif",
      "userId": "01164364696949326680"
     },
     "user_tz": 300
    },
    "id": "Q_Wt9bWWl9rV"
   },
   "outputs": [],
   "source": [
    "import pandas as pd\n",
    "import numpy as np\n",
    "import matplotlib.pyplot as plt\n",
    "import seaborn as sns\n",
    "from sklearn.model_selection import train_test_split\n",
    "from sklearn.preprocessing import StandardScaler, LabelEncoder\n",
    "from sklearn.ensemble import RandomForestClassifier\n",
    "from sklearn.metrics import accuracy_score, classification_report, confusion_matrix\n",
    "\n"
   ]
  },
  {
   "cell_type": "code",
   "execution_count": 4,
   "metadata": {
    "executionInfo": {
     "elapsed": 96,
     "status": "ok",
     "timestamp": 1740861858205,
     "user": {
      "displayName": "nz asif",
      "userId": "01164364696949326680"
     },
     "user_tz": 300
    },
    "id": "qpMdcnF_ndd2"
   },
   "outputs": [],
   "source": [
    "df = pd.read_csv('customer_churn.csv')"
   ]
  },
  {
   "cell_type": "markdown",
   "metadata": {
    "id": "IOe23auQmisC"
   },
   "source": [
    "Data Collection & Preprocessing\n",
    "\n",
    "\n"
   ]
  },
  {
   "cell_type": "code",
   "execution_count": 5,
   "metadata": {
    "colab": {
     "base_uri": "https://localhost:8080/",
     "height": 209
    },
    "executionInfo": {
     "elapsed": 5,
     "status": "ok",
     "timestamp": 1740861858211,
     "user": {
      "displayName": "nz asif",
      "userId": "01164364696949326680"
     },
     "user_tz": 300
    },
    "id": "hUsyUwJqU6aM",
    "outputId": "464cb991-2da9-4d52-88b2-8f5fe52227ce"
   },
   "outputs": [
    {
     "data": {
      "text/plain": [
       "Contract\n",
       "Month-to-month    3875\n",
       "Two year          1695\n",
       "One year          1473\n",
       "Name: count, dtype: int64"
      ]
     },
     "execution_count": 5,
     "metadata": {},
     "output_type": "execute_result"
    }
   ],
   "source": [
    "df['Contract'].value_counts()"
   ]
  },
  {
   "cell_type": "code",
   "execution_count": 6,
   "metadata": {
    "colab": {
     "base_uri": "https://localhost:8080/",
     "height": 742
    },
    "executionInfo": {
     "elapsed": 6,
     "status": "ok",
     "timestamp": 1740861858219,
     "user": {
      "displayName": "nz asif",
      "userId": "01164364696949326680"
     },
     "user_tz": 300
    },
    "id": "LhTK1ME8_HSd",
    "outputId": "50a84462-a85c-4e8c-e714-191e0effb0d7"
   },
   "outputs": [
    {
     "data": {
      "text/plain": [
       "customerID          0\n",
       "gender              0\n",
       "SeniorCitizen       0\n",
       "Partner             0\n",
       "Dependents          0\n",
       "tenure              0\n",
       "PhoneService        0\n",
       "MultipleLines       0\n",
       "InternetService     0\n",
       "OnlineSecurity      0\n",
       "OnlineBackup        0\n",
       "DeviceProtection    0\n",
       "TechSupport         0\n",
       "StreamingTV         0\n",
       "StreamingMovies     0\n",
       "Contract            0\n",
       "PaperlessBilling    0\n",
       "PaymentMethod       0\n",
       "MonthlyCharges      0\n",
       "TotalCharges        0\n",
       "Churn               0\n",
       "dtype: int64"
      ]
     },
     "execution_count": 6,
     "metadata": {},
     "output_type": "execute_result"
    }
   ],
   "source": [
    "# Data Preprocessing\n",
    "df.isnull().sum()"
   ]
  },
  {
   "cell_type": "code",
   "execution_count": 7,
   "metadata": {
    "executionInfo": {
     "elapsed": 5,
     "status": "ok",
     "timestamp": 1740861858225,
     "user": {
      "displayName": "nz asif",
      "userId": "01164364696949326680"
     },
     "user_tz": 300
    },
    "id": "tXvVa372_HW2"
   },
   "outputs": [
    {
     "ename": "NameError",
     "evalue": "name 'columns_to_en' is not defined",
     "output_type": "error",
     "traceback": [
      "\u001b[1;31m---------------------------------------------------------------------------\u001b[0m",
      "\u001b[1;31mNameError\u001b[0m                                 Traceback (most recent call last)",
      "Cell \u001b[1;32mIn[7], line 4\u001b[0m\n\u001b[0;32m      2\u001b[0m columns_to_encode \u001b[38;5;241m=\u001b[39m [\u001b[38;5;124m'\u001b[39m\u001b[38;5;124mgender\u001b[39m\u001b[38;5;124m'\u001b[39m, \u001b[38;5;124m'\u001b[39m\u001b[38;5;124mSeniorCitizen\u001b[39m\u001b[38;5;124m'\u001b[39m, \u001b[38;5;124m'\u001b[39m\u001b[38;5;124mPartner\u001b[39m\u001b[38;5;124m'\u001b[39m, \u001b[38;5;124m'\u001b[39m\u001b[38;5;124mDependents\u001b[39m\u001b[38;5;124m'\u001b[39m, \u001b[38;5;124m'\u001b[39m\u001b[38;5;124mtenure\u001b[39m\u001b[38;5;124m'\u001b[39m, \u001b[38;5;124m'\u001b[39m\u001b[38;5;124mPhoneService\u001b[39m\u001b[38;5;124m'\u001b[39m, \u001b[38;5;124m'\u001b[39m\u001b[38;5;124mMultipleLines\u001b[39m\u001b[38;5;124m'\u001b[39m, \u001b[38;5;124m'\u001b[39m\u001b[38;5;124mContract\u001b[39m\u001b[38;5;124m'\u001b[39m, \u001b[38;5;124m'\u001b[39m\u001b[38;5;124mTotalCharges\u001b[39m\u001b[38;5;124m'\u001b[39m, \u001b[38;5;124m'\u001b[39m\u001b[38;5;124mChurn\u001b[39m\u001b[38;5;124m'\u001b[39m]\n\u001b[0;32m      3\u001b[0m \u001b[38;5;66;03m# Select only the specified columns\u001b[39;00m\n\u001b[1;32m----> 4\u001b[0m df \u001b[38;5;241m=\u001b[39m df[\u001b[43mcolumns_to_en\u001b[49m]\n",
      "\u001b[1;31mNameError\u001b[0m: name 'columns_to_en' is not defined"
     ]
    }
   ],
   "source": [
    "# Define the columns to keep\n",
    "columns_to_encode = ['gender', 'SeniorCitizen', 'Partner', 'Dependents', 'tenure', 'PhoneService', 'MultipleLines', 'Contract', 'TotalCharges', 'Churn']\n",
    "# Select only the specified columns\n",
    "df = df[columns_to_en]"
   ]
  },
  {
   "cell_type": "markdown",
   "metadata": {
    "id": "dDaMZ0EVViEY"
   },
   "source": [
    "\n",
    "Encode binary variables (e.g., Yes/No columns)\n",
    "binary_columns = ['Partner', 'Dependents', 'PhoneService', 'PaperlessBilling', 'Churn']"
   ]
  },
  {
   "cell_type": "code",
   "execution_count": null,
   "metadata": {
    "executionInfo": {
     "elapsed": 20,
     "status": "ok",
     "timestamp": 1740861877937,
     "user": {
      "displayName": "nz asif",
      "userId": "01164364696949326680"
     },
     "user_tz": 300
    },
    "id": "B396fUTiVTDX"
   },
   "outputs": [],
   "source": [
    "#use label encoder\n",
    "from sklearn.preprocessing import LabelEncoder\n",
    "# Initialize the LabelEncoder\n",
    "label_encoder = LabelEncoder()\n",
    "# List of columns to label encode\n",
    "categorical_cols = ['gender', 'Partner', 'Dependents', 'PhoneService', 'MultipleLines', 'Contract','Churn']\n",
    "# Apply label encoding to each column\n",
    "for col in categorical_cols:\n",
    "    df[col] = label_encoder.fit_transform(df[col])"
   ]
  },
  {
   "cell_type": "code",
   "execution_count": null,
   "metadata": {
    "executionInfo": {
     "elapsed": 3,
     "status": "ok",
     "timestamp": 1740861858249,
     "user": {
      "displayName": "nz asif",
      "userId": "01164364696949326680"
     },
     "user_tz": 300
    },
    "id": "4CtUUJbq_HcF"
   },
   "outputs": [],
   "source": []
  }
 ],
 "metadata": {
  "colab": {
   "authorship_tag": "ABX9TyOeTTwq/wpSDtz8XhKFWLEq",
   "provenance": []
  },
  "kernelspec": {
   "display_name": "Python 3",
   "name": "python3"
  },
  "language_info": {
   "codemirror_mode": {
    "name": "ipython",
    "version": 3
   },
   "file_extension": ".py",
   "mimetype": "text/x-python",
   "name": "python",
   "nbconvert_exporter": "python",
   "pygments_lexer": "ipython3",
   "version": "3.12.9"
  }
 },
 "nbformat": 4,
 "nbformat_minor": 0
}
